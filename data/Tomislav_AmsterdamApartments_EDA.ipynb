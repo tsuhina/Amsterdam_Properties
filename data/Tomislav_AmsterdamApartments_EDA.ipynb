{
 "cells": [
  {
   "cell_type": "code",
   "execution_count": 459,
   "metadata": {},
   "outputs": [],
   "source": [
    "import numpy as np\n",
    "import matplotlib.pyplot as plt\n",
    "import seaborn as sns\n",
    "import pandas as pd"
   ]
  },
  {
   "cell_type": "code",
   "execution_count": 460,
   "metadata": {},
   "outputs": [],
   "source": [
    "data = pd.read_csv('CompleteData.csv')"
   ]
  },
  {
   "cell_type": "code",
   "execution_count": 461,
   "metadata": {},
   "outputs": [
    {
     "data": {
      "text/html": [
       "<div>\n",
       "<style scoped>\n",
       "    .dataframe tbody tr th:only-of-type {\n",
       "        vertical-align: middle;\n",
       "    }\n",
       "\n",
       "    .dataframe tbody tr th {\n",
       "        vertical-align: top;\n",
       "    }\n",
       "\n",
       "    .dataframe thead th {\n",
       "        text-align: right;\n",
       "    }\n",
       "</style>\n",
       "<table border=\"1\" class=\"dataframe\">\n",
       "  <thead>\n",
       "    <tr style=\"text-align: right;\">\n",
       "      <th></th>\n",
       "      <th>Zipcode</th>\n",
       "      <th>current_price</th>\n",
       "      <th>price_per_m2</th>\n",
       "      <th>Type</th>\n",
       "      <th>Construction_year</th>\n",
       "      <th>Living_area</th>\n",
       "      <th>LOT</th>\n",
       "      <th>Plot</th>\n",
       "      <th>Rooms</th>\n",
       "      <th>Bedrooms</th>\n",
       "      <th>...</th>\n",
       "      <th>household_single</th>\n",
       "      <th>household_wo_kids</th>\n",
       "      <th>household_with_kids</th>\n",
       "      <th>avg_person_per_household</th>\n",
       "      <th>perc_with_job</th>\n",
       "      <th>high_income</th>\n",
       "      <th>medium_income</th>\n",
       "      <th>low_income</th>\n",
       "      <th>income_avg</th>\n",
       "      <th>social_benefit</th>\n",
       "    </tr>\n",
       "  </thead>\n",
       "  <tbody>\n",
       "    <tr>\n",
       "      <th>0</th>\n",
       "      <td>1034.0</td>\n",
       "      <td>585000.0</td>\n",
       "      <td>3.656</td>\n",
       "      <td>Herenhuis</td>\n",
       "      <td>1995</td>\n",
       "      <td>160.0</td>\n",
       "      <td>556.000</td>\n",
       "      <td>220.00</td>\n",
       "      <td>5</td>\n",
       "      <td>-</td>\n",
       "      <td>...</td>\n",
       "      <td>0.43</td>\n",
       "      <td>0.21</td>\n",
       "      <td>0.37</td>\n",
       "      <td>2,2</td>\n",
       "      <td>0.63</td>\n",
       "      <td>0.11</td>\n",
       "      <td>0.46</td>\n",
       "      <td>0.43</td>\n",
       "      <td>16.4</td>\n",
       "      <td>0.1007</td>\n",
       "    </tr>\n",
       "    <tr>\n",
       "      <th>1</th>\n",
       "      <td>1067.0</td>\n",
       "      <td>325000.0</td>\n",
       "      <td>3.250</td>\n",
       "      <td>Hoekwoning</td>\n",
       "      <td>1955</td>\n",
       "      <td>100.0</td>\n",
       "      <td>328.000</td>\n",
       "      <td>80.00</td>\n",
       "      <td>5</td>\n",
       "      <td>4</td>\n",
       "      <td>...</td>\n",
       "      <td>0.43</td>\n",
       "      <td>0.20</td>\n",
       "      <td>0.37</td>\n",
       "      <td>2,2</td>\n",
       "      <td>0.62</td>\n",
       "      <td>0.09</td>\n",
       "      <td>0.45</td>\n",
       "      <td>0.46</td>\n",
       "      <td>15.5</td>\n",
       "      <td>0.1107</td>\n",
       "    </tr>\n",
       "    <tr>\n",
       "      <th>2</th>\n",
       "      <td>1086.0</td>\n",
       "      <td>910000.0</td>\n",
       "      <td>3.889</td>\n",
       "      <td>Herenhuis</td>\n",
       "      <td>2008</td>\n",
       "      <td>234.0</td>\n",
       "      <td>874.000</td>\n",
       "      <td>144.00</td>\n",
       "      <td>8</td>\n",
       "      <td>4</td>\n",
       "      <td>...</td>\n",
       "      <td>0.30</td>\n",
       "      <td>0.18</td>\n",
       "      <td>0.53</td>\n",
       "      <td>2,6</td>\n",
       "      <td>0.81</td>\n",
       "      <td>0.37</td>\n",
       "      <td>0.40</td>\n",
       "      <td>0.23</td>\n",
       "      <td>23.4</td>\n",
       "      <td>0.0500</td>\n",
       "    </tr>\n",
       "    <tr>\n",
       "      <th>3</th>\n",
       "      <td>1016.0</td>\n",
       "      <td>1050000.0</td>\n",
       "      <td>7.554</td>\n",
       "      <td>Dubbele bovenwoning</td>\n",
       "      <td>1620</td>\n",
       "      <td>139.0</td>\n",
       "      <td>NaN</td>\n",
       "      <td>66.00</td>\n",
       "      <td>5</td>\n",
       "      <td>4</td>\n",
       "      <td>...</td>\n",
       "      <td>0.65</td>\n",
       "      <td>0.23</td>\n",
       "      <td>0.12</td>\n",
       "      <td>1,5</td>\n",
       "      <td>0.69</td>\n",
       "      <td>0.44</td>\n",
       "      <td>0.26</td>\n",
       "      <td>0.30</td>\n",
       "      <td>30.2</td>\n",
       "      <td>0.0100</td>\n",
       "    </tr>\n",
       "    <tr>\n",
       "      <th>4</th>\n",
       "      <td>1035.0</td>\n",
       "      <td>1395000.0</td>\n",
       "      <td>4.619</td>\n",
       "      <td>Vrijstaande woning</td>\n",
       "      <td>1751</td>\n",
       "      <td>302.0</td>\n",
       "      <td>1.259</td>\n",
       "      <td>1.47</td>\n",
       "      <td>7</td>\n",
       "      <td>6</td>\n",
       "      <td>...</td>\n",
       "      <td>0.36</td>\n",
       "      <td>0.24</td>\n",
       "      <td>0.40</td>\n",
       "      <td>2,2</td>\n",
       "      <td>0.73</td>\n",
       "      <td>0.20</td>\n",
       "      <td>0.44</td>\n",
       "      <td>0.36</td>\n",
       "      <td>17.9</td>\n",
       "      <td>0.0505</td>\n",
       "    </tr>\n",
       "  </tbody>\n",
       "</table>\n",
       "<p>5 rows × 43 columns</p>\n",
       "</div>"
      ],
      "text/plain": [
       "   Zipcode  current_price price_per_m2                 Type Construction_year  \\\n",
       "0   1034.0       585000.0        3.656            Herenhuis              1995   \n",
       "1   1067.0       325000.0        3.250           Hoekwoning              1955   \n",
       "2   1086.0       910000.0        3.889            Herenhuis              2008   \n",
       "3   1016.0      1050000.0        7.554  Dubbele bovenwoning              1620   \n",
       "4   1035.0      1395000.0        4.619   Vrijstaande woning              1751   \n",
       "\n",
       "   Living_area      LOT    Plot Rooms Bedrooms       ...        \\\n",
       "0        160.0  556.000  220.00     5        -       ...         \n",
       "1        100.0  328.000   80.00     5        4       ...         \n",
       "2        234.0  874.000  144.00     8        4       ...         \n",
       "3        139.0      NaN   66.00     5        4       ...         \n",
       "4        302.0    1.259    1.47     7        6       ...         \n",
       "\n",
       "   household_single  household_wo_kids  household_with_kids  \\\n",
       "0              0.43               0.21                 0.37   \n",
       "1              0.43               0.20                 0.37   \n",
       "2              0.30               0.18                 0.53   \n",
       "3              0.65               0.23                 0.12   \n",
       "4              0.36               0.24                 0.40   \n",
       "\n",
       "   avg_person_per_household  perc_with_job  high_income  medium_income  \\\n",
       "0                       2,2           0.63         0.11           0.46   \n",
       "1                       2,2           0.62         0.09           0.45   \n",
       "2                       2,6           0.81         0.37           0.40   \n",
       "3                       1,5           0.69         0.44           0.26   \n",
       "4                       2,2           0.73         0.20           0.44   \n",
       "\n",
       "   low_income  income_avg  social_benefit  \n",
       "0        0.43        16.4          0.1007  \n",
       "1        0.46        15.5          0.1107  \n",
       "2        0.23        23.4          0.0500  \n",
       "3        0.30        30.2          0.0100  \n",
       "4        0.36        17.9          0.0505  \n",
       "\n",
       "[5 rows x 43 columns]"
      ]
     },
     "execution_count": 461,
     "metadata": {},
     "output_type": "execute_result"
    }
   ],
   "source": [
    "data.head()"
   ]
  },
  {
   "cell_type": "code",
   "execution_count": 462,
   "metadata": {},
   "outputs": [
    {
     "data": {
      "text/plain": [
       "Index(['Zipcode', 'current_price', 'price_per_m2', 'Type', 'Construction_year',\n",
       "       'Living_area', 'LOT', 'Plot', 'Rooms', 'Bedrooms', 'treinstation',\n",
       "       'tankstation', 'supermarkt', 'basisschool', 'kinderopvang',\n",
       "       'middelbare school', 'café', '(huis)arts', 'tandarts', 'fitnesscentrum',\n",
       "       'bibliotheek', 'inhabitants', 'distribution_fm', 'population_density',\n",
       "       'Age_0-15', 'age_15-25', 'age_25-45', 'age_45-65', 'age_older',\n",
       "       'indigenous', 'western_allochtoon', 'none_western', 'household',\n",
       "       'household_single', 'household_wo_kids', 'household_with_kids',\n",
       "       'avg_person_per_household', 'perc_with_job', 'high_income',\n",
       "       'medium_income', 'low_income', 'income_avg', 'social_benefit'],\n",
       "      dtype='object')"
      ]
     },
     "execution_count": 462,
     "metadata": {},
     "output_type": "execute_result"
    }
   ],
   "source": [
    "data.columns"
   ]
  },
  {
   "cell_type": "code",
   "execution_count": 463,
   "metadata": {},
   "outputs": [],
   "source": [
    "# Rename columns that have a weird name:\n",
    "data = data.rename(columns={\"café\": 'cafe', '(huis)arts':'huisarts', 'middelbare school':'middelbare_school','Age_0-15':'Age_0_15', \n",
    "                           'age_15-25':'age_15_25', 'age_25-45':'age_25_45', 'age_45-65':'age_45_65'})\n",
    "        \n",
    "# Define data types for each column, to make sure that nothing weird happens.\n",
    "data.Zipcode = data.Zipcode.apply(lambda x: str(x)[0:4])\n",
    "\n",
    "data.current_price = pd.to_numeric(data.current_price, errors='coerce')\n",
    "\n",
    "data.price_per_m2 = pd.to_numeric(data.price_per_m2, errors='coerce')\n",
    "\n",
    "data.Type = data.Type.astype('category')\n",
    "data.Construction_year = pd.to_numeric(data.Construction_year, errors='coerce')\n",
    "data.Living_area = pd.to_numeric(data.Living_area, errors='coerce')\n",
    "data.LOT = pd.to_numeric(data.LOT, errors='coerce')\n",
    "data.Plot = pd.to_numeric(data.Plot, errors='coerce')\n",
    "data.Rooms = data.Rooms.astype('category')\n",
    "data.Bedrooms = data.Bedrooms.astype('category')\n",
    "data.treinstation = pd.to_numeric(data.treinstation, errors='coerce')\n",
    "data.tankstation = pd.to_numeric(data.tankstation, errors='coerce')\n",
    "data.supermarkt = pd.to_numeric(data.supermarkt, errors='coerce')\n",
    "data.basisschool = pd.to_numeric(data.basisschool, errors='coerce')\n",
    "data.kinderopvang = pd.to_numeric(data.kinderopvang, errors='coerce')\n",
    "data.middelbare_school = pd.to_numeric(data.middelbare_school, errors='coerce')\n",
    "data.cafe = pd.to_numeric(data.cafe, errors='coerce')\n",
    "data.huisarts = pd.to_numeric(data.huisarts, errors='coerce')\n",
    "data.tandarts = pd.to_numeric(data.tandarts, errors='coerce')\n",
    "data.fitnesscentrum = pd.to_numeric(data.fitnesscentrum, errors='coerce')\n",
    "data.bibliotheek = pd.to_numeric(data.bibliotheek, errors='coerce')\n",
    "data.inhabitants = pd.to_numeric(data.inhabitants, errors='coerce')\n",
    "data.distribution_fm = pd.to_numeric(data.distribution_fm, errors='coerce')\n",
    "data.population_density = pd.to_numeric(data.population_density, errors='coerce')\n",
    "data.Age_0_15 = pd.to_numeric(data.Age_0_15, errors='coerce')\n",
    "data.age_15_25 = pd.to_numeric(data.age_15_25, errors='coerce')\n",
    "data.age_25_45 = pd.to_numeric(data.age_25_45, errors='coerce')\n",
    "data.age_45_65 = pd.to_numeric(data.age_45_65, errors='coerce')\n",
    "data.age_older = pd.to_numeric(data.age_older, errors='coerce')\n",
    "data.indigenous = pd.to_numeric(data.indigenous, errors='coerce')\n",
    "data.western_allochtoon = pd.to_numeric(data.western_allochtoon, errors='coerce')\n",
    "data.none_western = pd.to_numeric(data.none_western, errors='coerce')\n",
    "data.household = pd.to_numeric(data.household, errors='coerce')\n",
    "data.household_single = pd.to_numeric(data.household_single, errors='coerce')\n",
    "data.household_wo_kids = pd.to_numeric(data.household_wo_kids, errors='coerce')\n",
    "data.household_with_kids = pd.to_numeric(data.household_with_kids, errors='coerce')\n",
    "data.avg_person_per_household = pd.to_numeric(data.avg_person_per_household, errors='coerce')\n",
    "data.perc_with_job = pd.to_numeric(data.perc_with_job, errors='coerce')\n",
    "data.high_income = pd.to_numeric(data.high_income, errors='coerce')\n",
    "data.medium_income = pd.to_numeric(data.medium_income, errors='coerce')\n",
    "data.low_income = pd.to_numeric(data.low_income, errors='coerce')\n",
    "data.income_avg = pd.to_numeric(data.income_avg, errors='coerce')\n",
    "data.social_benefit = pd.to_numeric(data.social_benefit, errors='coerce')"
   ]
  },
  {
   "cell_type": "code",
   "execution_count": 464,
   "metadata": {},
   "outputs": [],
   "source": [
    "data = data.loc[(data.Type == 'Appartement') | (data.Type == 'Herenhuis') | (data.Type == r'Dubbele bovenwoning') | \n",
    "                (data.Type == 'Woonboot') | (data.Type == 'Penthouse') | (data.Type == 'Villa') | (data.Type == 'Bovenwoning') |\n",
    "               (data.Type == 'Studio') | (data.Type == 'Maisonette') | (data.Type == 'Maisonette') |\n",
    "                (data.Type == 'Benedenwoning') | (data.Type == 'Vrijstaande woning') | (data.Type == 'Eengezinswoning') |\n",
    "                (data.Type == 'Woning')| (data.Type == 'Hoekwoning'), :]\n",
    "data = data.loc[data.current_price > 50000, :]\n",
    "data = data.loc[pd.notna(data.current_price), :]"
   ]
  },
  {
   "cell_type": "code",
   "execution_count": 465,
   "metadata": {},
   "outputs": [
    {
     "data": {
      "text/plain": [
       "(1817, 43)"
      ]
     },
     "execution_count": 465,
     "metadata": {},
     "output_type": "execute_result"
    }
   ],
   "source": [
    "data.shape"
   ]
  },
  {
   "cell_type": "markdown",
   "metadata": {},
   "source": [
    "## Price Per ZIP Area"
   ]
  },
  {
   "cell_type": "code",
   "execution_count": 466,
   "metadata": {},
   "outputs": [
    {
     "data": {
      "image/png": "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\n",
      "text/plain": [
       "<Figure size 1080x216 with 1 Axes>"
      ]
     },
     "metadata": {},
     "output_type": "display_data"
    }
   ],
   "source": [
    "data_pivot = data.loc[:, ['Zipcode', 'current_price']].groupby('Zipcode').mean()\n",
    "data_pivot.plot(kind = 'bar', figsize=(15,3))\n",
    "plt.title('Current apartment price by city area (zipcode)')\n",
    "plt.show()"
   ]
  },
  {
   "cell_type": "markdown",
   "metadata": {},
   "source": [
    "## Price per Meter Squared"
   ]
  },
  {
   "cell_type": "code",
   "execution_count": 467,
   "metadata": {},
   "outputs": [],
   "source": [
    "temp = data.copy()"
   ]
  },
  {
   "cell_type": "code",
   "execution_count": 468,
   "metadata": {},
   "outputs": [],
   "source": [
    "temp.loc[:, 'PricePerArea'] = temp.current_price/temp.Living_area"
   ]
  },
  {
   "cell_type": "code",
   "execution_count": 469,
   "metadata": {},
   "outputs": [
    {
     "data": {
      "text/plain": [
       "1770000.0"
      ]
     },
     "execution_count": 469,
     "metadata": {},
     "output_type": "execute_result"
    }
   ],
   "source": [
    "temp.PricePerArea.max()"
   ]
  },
  {
   "cell_type": "code",
   "execution_count": 470,
   "metadata": {
    "scrolled": true
   },
   "outputs": [
    {
     "data": {
      "image/png": "iVBORw0KGgoAAAANSUhEUgAAA30AAADvCAYAAABGzL1sAAAABHNCSVQICAgIfAhkiAAAAAlwSFlzAAALEgAACxIB0t1+/AAAADl0RVh0U29mdHdhcmUAbWF0cGxvdGxpYiB2ZXJzaW9uIDIuMi4yLCBodHRwOi8vbWF0cGxvdGxpYi5vcmcvhp/UCwAAIABJREFUeJzt3Xe8XGW18PHfIgRJBAKEgEqAIM2AUoQAXgWREgIWEERARUSu+F7xFTtiuXhVFO+1XLGjRJoQKSKIIEVEXzGUUKRFTIghCSgEQi9CYL1/7OfAZDLnnJlTOGfm/L6fz3zOPs9ee80zu8yeNbtMZCaSJEmSpM60wlB3QJIkSZI0eCz6JEmSJKmDWfRJkiRJUgez6JMkSZKkDmbRJ0mSJEkdzKJPkiRJkjqYRZ8kSW0kIm6LiF2Guh+SpPZh0SdJbSQi3hURsyLisYj4R0RcHBFvGOp+dYmI+RGx+1D3o0tEnBwRXxmi554UERkRKw5k3szcIjOvHMickqTOZtEnSW0iIj4O/C/wVWAdYH3gB8A+fci1XCEy0MXJUIuIUUPdh4HUDssnKv36bNEOr1OS2o1FnyS1gYgYB3wJODIzf5mZj2fmM5n568z8VIlZ5qhWROwSEYtq/p8fEUdHxM3A4xGxYjdtr4iIcyNicUT8PSI+UpPjixFxVkScGhGPllMNtyvjTqMqRH9djkR+usHrWCMiLiy5HyzDE2vGXxkRX4uIayPi4Yg4PyLWrBl/dkT8s4z7Y0RsUTPu5Ij4YURcFBGPA4cD7wY+Xfrz65r58KmIuDkiHo+IkyJinXLU9NGIuDwi1qjJu2NE/DkiHoqIv9SeWln6++WIuKpMe2lErFVG/7H8fag8/+sazI8vRsQ5EfGLMv0NEbFVE8ts9zJ+VER8NiLuLNNfHxHrlXGviojLImJJRNwREe9cbsVqfr73Ng+Oi4irgCeAVzbI/5maPt4eEW+vGfe+Mv++HRFLgC+W9vdHxOyynlwSERvUTPOdiFgYEY+U17xTd69NkmTRJ0nt4nXAysB5/cxzMPBmYPXMXFrfBjwH/Br4C7AusBvw0YjYsybH24AZJf4C4HsAmXkIsAB4a2aukpn/3eD5VwB+BmxAVSA+2TV9jfcC7wdeASwFTqgZdzGwCbA2cAPw87pp3wUcB6wKnFrG/3fpz1tr4vYH9gA2Bd5a8n4WWKv08SMAEbEu8BvgK8CawCeBcyNiQt1zHlb6tFKJAdi5/F29PP/MBvMDqiO1Z5f8ZwC/iojRNeMbLbMuHy/j9wZWo5pvT0TES4HLSr61S8wPaovkBhrO9ybnwSHAEVTz/a4Gue8EdgLGAf8FnB4RL68ZvwMwr/T1uIjYl2p57AdMAP4fcGZN/HXA1rwwz86OiJV7eG2SNKJZ9ElSexgP3N/gQ3+rTsjMhZn5ZDdtU4AJmfmlzHw6M+cBPwEOqon/U2ZelJnPAqcBW9GkzHwgM8/NzCcy81GqAu2NdWGnZeatmfk48AXgnVFO1czM6Zn5aGb+i+qI0FZRHQXtcn5mXpWZz2XmUz105buZeW9m3k1VUFyTmTeWvOcB25S49wAXldf7XGZeBsyiKrK6/Cwz/1bm31lUxUgrrs/MczLzGeBbVMX9jjXjGy2zLv8OfD4z78jKXzLzAeAtwPzM/FlmLs3MG4BzgXf00I/u5nsz8+DkzLytPNcz9Ykz8+zMvKdM/wtgDrB9Tcg9mfndMv2TwAeBr2Xm7LLOfxXYuutoX2aeXtalpZn5TeAlwGY9vDZJGtEs+iSpPTwArBX9v95pYS9tGwCvKKfxPRQRD1EdcVmnJuafNcNPACs326+IGBsRP46IuyLiEapTIFePZa+/q+3PXcBoqtc+KiKOL6cJPgLMLzFrdTNtT+6tGX6ywf+rlOENgAPq5scbgNqjVPXzYxVa83yfM/M5YBHV0bblxjewHtVRtHobADvU9fvdwMua6Qc1853m5kGP8z0i3hsRN9VM/2p6Xm4bAN+piV8CBNXRZyLiE+XUz4fL+HF1+SRJNbxYWpLaw0zgKWBf4JxuYh4Hxtb83+gDfvbSthD4e2Zu0pdOdpO/1ieojsjskJn/jIitgRupPtB3Wa9meH3gGeB+qtMo9wF2pyr4xgEP1k1b//y99ac3C6mOgH2gD9M2+9zPv96oboIyEbinyTwLgY2AWxu0/yEz92iyD8v0g2XnezPzoNs+lqNzP6E6VXhmZj4bETfR83JbCByXmfWn71Ku3zu65LstM5+LiPr1QJJUwyN9ktQGMvNh4D+B70fEvuWI2eiI2Csiuq6duwnYOyLWjIiXAR/tw1NdCzxSbh4yphxde3VETGly+ntpcCOPGqtSHUl7qNwo5NgGMe+JiM0jYizVzWvOKaeSrgr8i+qo51iqU/7625/enA68NSL2LPNi5ahukDOx1ylhMdU1kr09/7YRsV85WvpRqtd4dZP9+ynw5YjYJCpbRsR44EJg04g4pKwnoyNiSkRM7iFXd/O9P/MA4KVURd1igIg4jOpIX09+BBzTdQ1iRIyLiAPKuFWprjlcDKwYEf9JdT2jJKkbFn2S1CYy81tUN+74PNUH3oXAh4FflZDTqG7AMh+4FPhFH57jWaobm2wN/J3qSM9PqY6qNeNrwOfLaXmfbDD+f4ExJe/VwG8bxJwGnEx12uTKlJuqUN2Y5S7gbuB2miuMTgI2L/35Va/RdTJzIdXRxc/ywjz/FE3sPzPzCaprFq8qz79jN6HnAwdSHbU8BNiv0XVx3fgW1XWElwKPUL3eMeV6yalU12LeQzUvv0517Vt3Gs73/syDMv3twDepjlbfC7wGuKqXac4r/Z1RTuW9FdirjL6E6sY7f6NaH56i+dN6JWlEisz+nvkiSdLAiIgrgdMz86dD3ZcXQ0R8Edg4M98zxP24khE03yVppPFInyRJkiR1MIs+SZIkSepgnt4pSZIkSR3MI32SJEmS1MHa9nf61lprrZw0adJQd0OSJEmShsT1119/f2ZO6C2ubYu+SZMmMWvWrKHuhiRJkiQNiYi4q5k4T++UJEmSpA5m0SdJkiRJHcyiT5IkSZI6WNte0ydJkiRpcDzzzDMsWrSIp556aqi7ImDllVdm4sSJjB49uk/TW/RJkiRJWsaiRYtYddVVmTRpEhEx1N0Z0TKTBx54gEWLFrHhhhv2KYend0qSJElaxlNPPcX48eMt+IaBiGD8+PH9Oura9JG+iBgFzALuzsy3RMSGwAxgTeAG4JDMfDoiXgKcCmwLPAAcmJnzS45jgMOBZ4GPZOYlpX0a8B1gFPDTzDy+z69ILZv0md8s1zb/+DcPQU8kSZI0XFjwDR/9XRatHOk7Cphd8//XgW9n5ibAg1TFHOXvg5m5MfDtEkdEbA4cBGwBTAN+EBGjSjH5fWAvYHPg4BIrSZIkSeqnpo70RcRE4M3AccDHoyo1dwXeVUJOAb4I/BDYpwwDnAN8r8TvA8zIzH8Bf4+IucD2JW5uZs4rzzWjxN7er1cmSZIkaUA0OjOsP5o5q2zUqFG85jWvYenSpUyePJlTTjmFsWPHLhe39957c8YZZ7D66qu31IeTTz6ZT33qU6y77ro8/fTTfOxjH+MDH/hASzkAvv3tb3PMMcdw7733Mm7cuJanfzE0e6Tvf4FPA8+V/8cDD2Xm0vL/ImDdMrwusBCgjH+4xD/fXjdNd+3LiYgjImJWRMxavHhxk12XJEmS1G7GjBnDTTfdxK233spKK63Ej370o2XGZybPPfccF110UcsFX5cDDzyQm266iSuvvJLPfvaz3HvvvU1Nt3Tp0ueHzzzzTKZMmcJ5553Xa+xQ6bXoi4i3APdl5vW1zQ1Cs5dxrbYv35h5YmZul5nbTZgwoYdeS5IkSeoUO+20E3PnzmX+/PlMnjyZD33oQ7z2ta9l4cKFTJo0ifvvvx+AU089lS233JKtttqKQw45BIDFixez//77M2XKFKZMmcJVV121XP61116bjTbaiLvuuovHH3+c97///UyZMoVtttmG888/H6iODB5wwAG89a1vZerUqQDceeedPPbYY3zlK1/hzDPPfD5fo9j/+Z//YcqUKWy55ZYce+yxz8fuu+++bLvttmyxxRaceOKJgzL/mjm98/XA2yJib2BlYDWqI3+rR8SK5WjeROCeEr8IWA9YFBErAuOAJTXtXWqn6a5dkiRJ0gi2dOlSLr74YqZNmwbAHXfcwc9+9jN+8IMfLBN32223cdxxx3HVVVex1lprsWTJEgCOOuooPvaxj/GGN7yBBQsWsOeeezJ79uxlpp03bx7z5s1j44035rjjjmPXXXdl+vTpPPTQQ2y//fbsvvvuAMycOZObb76ZNddcE6iO8h188MHstNNO3HHHHdx3332svfbay8VeeumlzJkzh2uvvZbM5G1vext//OMf2XnnnZk+fTprrrkmTz75JFOmTGH//fdn/PjxAzoPey36MvMY4BiAiNgF+GRmvjsizgbeQXUHz0OB88skF5T/Z5bxV2RmRsQFwBkR8S3gFcAmwLVUR/o2KXcDvZvqZi9d1wpKkiRJGoGefPJJtt56a6A60nf44Ydzzz33sMEGG7DjjjsuF3/FFVfwjne8g7XWWgvg+cLs8ssv5/bbX7hdyCOPPMKjjz4KwC9+8Qv+9Kc/8ZKXvIQf//jHzxdoF1xwAd/4xjeA6ucrFixYAMAee+zxfF6AGTNmcN5557HCCiuw3377cfbZZ3PkkUcuF3vppZdy6aWXss022wDw2GOPMWfOHHbeeWdOOOGE508NXbhwIXPmzHnxi74eHA3MiIivADcCJ5X2k4DTyo1allAVcWTmbRFxFtUNWpYCR2bmswAR8WHgEqqfbJiembf1o1+SJEmS2lzXNX31XvrSlzaMz8yGP23w3HPPMXPmTMaMGbPcuAMPPJDvfe97y+U599xz2WyzzZZpv+aaa5Z57ptvvpk5c+awxx57APD000/zyle+8vmirzY2MznmmGP44Ac/uEzOK6+8kssvv5yZM2cyduxYdtlll379Hl93Wvpx9sy8MjPfUobnZeb2mblxZh5Q7spJZj5V/t+4jJ9XM/1xmblRZm6WmRfXtF+UmZuWcccN1IuTJEmSNDLstttunHXWWTzwwAMAz5/eOXXq1GUKu0aFZK0999yT7373u2RWtxm58cYbG8adeeaZfPGLX2T+/PnMnz+fe+65h7vvvpu77rqrYc7p06fz2GOPAXD33Xdz33338fDDD7PGGmswduxY/vrXv3L11Ve3/sKb0J8jfZIkSZJGgGZ+YmGobbHFFnzuc5/jjW98I6NGjWKbbbbh5JNP5oQTTuDII49kyy23ZOnSpey8887L3Qm01he+8AU++tGPsuWWW5KZTJo0iQsvvHC5uBkzZnDxxRcv0/b2t7+dGTNmsM466yzTPnXqVGbPns3rXvc6AFZZZRVOP/10pk2bxo9+9CO23HJLNttss4anrQ6E6Kpg2812222Xs2bNGupudIRGv7vSDhu2JEmSBsfs2bOZPHnyUHdDNRotk4i4PjO3623alk7vlCRJkiS1F4s+SZIkSepgFn2SJEmSltOul4F1ov4uC4s+SZIkSctYeeWVeeCBByz8hoHM5IEHHmDllVfucw7v3ilJkiRpGRMnTmTRokUsXrx4qLsiqiJ84sSJfZ7eok+SJEnSMkaPHs2GG2441N3QAPH0TkmSJEnqYBZ9kiRJktTBLPokSZIkqYNZ9EmSJElSB7PokyRJkqQOZtEnSZIkSR3Mok+SJEmSOphFnyRJkiR1MIs+SZIkSepgFn2SJEmS1MEs+iRJkiSpg1n0SZIkSVIHs+iTJEmSpA5m0SdJkiRJHcyiT5IkSZI6mEWfJEmSJHUwiz5JkiRJ6mAWfZIkSZLUwSz6JEmSJKmDWfRJkiRJUgez6JMkSZKkDtZr0RcRK0fEtRHxl4i4LSL+q7RvGBHXRMSciPhFRKxU2l9S/p9bxk+qyXVMab8jIvasaZ9W2uZGxGcG/mVKkiRJ0sjUzJG+fwG7ZuZWwNbAtIjYEfg68O3M3AR4EDi8xB8OPJiZGwPfLnFExObAQcAWwDTgBxExKiJGAd8H9gI2Bw4usZIkSZKkfuq16MvKY+Xf0eWRwK7AOaX9FGDfMrxP+Z8yfreIiNI+IzP/lZl/B+YC25fH3Mycl5lPAzNKrCRJkiSpn5q6pq8ckbsJuA+4DLgTeCgzl5aQRcC6ZXhdYCFAGf8wML62vW6a7tob9eOIiJgVEbMWL17cTNclSZIkaURrqujLzGczc2tgItWRucmNwsrf6GZcq+2N+nFiZm6XmdtNmDCh945LkiRJ0gjX0t07M/Mh4EpgR2D1iFixjJoI3FOGFwHrAZTx44Alte1103TXLkmSJEnqp2bu3jkhIlYvw2OA3YHZwO+Bd5SwQ4Hzy/AF5X/K+CsyM0v7QeXunhsCmwDXAtcBm5S7ga5EdbOXCwbixUmSJEnSSLdi7yG8HDil3GVzBeCszLwwIm4HZkTEV4AbgZNK/EnAaRExl+oI30EAmXlbRJwF3A4sBY7MzGcBIuLDwCXAKGB6Zt42YK9QkiRJkkawXou+zLwZ2KZB+zyq6/vq258CDugm13HAcQ3aLwIuaqK/kiRJkqQWtHRNnyRJkiSpvVj0SZIkSVIHs+iTJEmSpA5m0SdJkiRJHcyiT5IkSZI6mEWfJEmSJHUwiz5JkiRJ6mAWfZIkSZLUwSz6JEmSJKmDWfRJkiRJUgez6JMkSZKkDmbRJ0mSJEkdzKJPkiRJkjqYRZ8kSZIkdTCLPkmSJEnqYBZ9kiRJktTBLPokSZIkqYNZ9EmSJElSB7PokyRJkqQOZtEnSZIkSR3Mok+SJEmSOphFnyRJkiR1MIs+SZIkSepgFn2SJEmS1MEs+iRJkiSpg1n0SZIkSVIHs+iTJEmSpA5m0SdJkiRJHcyiT5IkSZI6WK9FX0SsFxG/j4jZEXFbRBxV2teMiMsiYk75u0Zpj4g4ISLmRsTNEfHamlyHlvg5EXFoTfu2EXFLmeaEiIjBeLGSJEmSNNI0c6RvKfCJzJwM7AgcGRGbA58BfpeZmwC/K/8D7AVsUh5HAD+EqkgEjgV2ALYHju0qFEvMETXTTev/S5MkSZIk9Vr0ZeY/MvOGMvwoMBtYF9gHOKWEnQLsW4b3AU7NytXA6hHxcmBP4LLMXJKZDwKXAdPKuNUyc2ZmJnBqTS5JkiRJUj+0dE1fREwCtgGuAdbJzH9AVRgCa5ewdYGFNZMtKm09tS9q0N7o+Y+IiFkRMWvx4sWtdF2SJEmSRqSmi76IWAU4F/hoZj7SU2iDtuxD+/KNmSdm5naZud2ECRN667IkSZIkjXhNFX0RMZqq4Pt5Zv6yNN9bTs2k/L2vtC8C1quZfCJwTy/tExu0S5IkSZL6qZm7dwZwEjA7M79VM+oCoOsOnIcC59e0v7fcxXNH4OFy+uclwNSIWKPcwGUqcEkZ92hE7Fie6701uSRJkiRJ/bBiEzGvBw4BbomIm0rbZ4HjgbMi4nBgAXBAGXcRsDcwF3gCOAwgM5dExJeB60rclzJzSRn+D+BkYAxwcXlIkiRJkvqp16IvM/9E4+vuAHZrEJ/Akd3kmg5Mb9A+C3h1b32RJEmSJLWmpbt3SpIkSZLai0WfJEmSJHUwiz5JkiRJ6mAWfZIkSZLUwSz6JEmSJKmDWfRJkiRJUgez6JMkSZKkDmbRJ0mSJEkdzKJPkiRJkjqYRZ8kSZIkdTCLPkmSJEnqYBZ9kiRJktTBLPokSZIkqYNZ9EmSJElSB7PokyRJkqQOZtEnSZIkSR3Mok+SJEmSOphFnyRJkiR1MIs+SZIkSepgFn2SJEmS1MEs+iRJkiSpg1n0SZIkSVIHs+iTJEmSpA5m0SdJkiRJHcyiT5IkSZI6mEWfJEmSJHUwiz5JkiRJ6mAWfZIkSZLUwSz6JEmSJKmD9Vr0RcT0iLgvIm6taVszIi6LiDnl7xqlPSLihIiYGxE3R8Rra6Y5tMTPiYhDa9q3jYhbyjQnREQM9IuUJEmSpJGqmSN9JwPT6to+A/wuMzcBflf+B9gL2KQ8jgB+CFWRCBwL7ABsDxzbVSiWmCNqpqt/LkmSJElSH/Va9GXmH4Eldc37AKeU4VOAfWvaT83K1cDqEfFyYE/gssxckpkPApcB08q41TJzZmYmcGpNLkmSJElSP/X1mr51MvMfAOXv2qV9XWBhTdyi0tZT+6IG7Q1FxBERMSsiZi1evLiPXZckSZKkkWOgb+TS6Hq87EN7Q5l5YmZul5nbTZgwoY9dlCRJkqSRo69F373l1EzK3/tK+yJgvZq4icA9vbRPbNAuSZIkSRoAK/ZxuguAQ4Hjy9/za9o/HBEzqG7a8nBm/iMiLgG+WnPzlqnAMZm5JCIejYgdgWuA9wLf7WOfJElSB5n0md80bJ9//Jtf5J5IUnvrteiLiDOBXYC1ImIR1V04jwfOiojDgQXAASX8ImBvYC7wBHAYQCnuvgxcV+K+lJldN4f5D6o7hI4BLi4PSZKktmSxKmm46bXoy8yDuxm1W4PYBI7sJs90YHqD9lnAq3vrhyRJkiSpdQN9IxdJkiRJ0jBi0SdJkiRJHayvN3KRJEkaEbxGT1K7s+hrE+5wJElSo88DfhaQ1BuLvh60a6HVrv2WJGmkcZ8t6cUw4oq+4fLmOlz6IWn48f1BkqTONFRH60dc0ScNJT/Ma6C5TkmSpN5Y9ElSMZjfvnkdjjS4/AJEkrpn0aeWuFOVNBR879FAc51anl9OLct1RJ3Eok8aodyZaSi5/knqNL6vaTiz6BtAbuySJGm48HNJ5xjMZel6MjJY9EnDmG/Ew9dIWDatvsaRME8k9Y2njkpDy6JPg8o3eWl4sTCTJL1Y/Bw4fFj0adjww6gkSe3B0w1HJpdN+7LokzqEO2BJktqD+1W92Cz6NCL45ipJkkYCP/OoEYs+tS3PEx+ZXO4aSn6YkiS1I4s+SdKI1q5fJLTSb4tVdTK3Bal3Fn1SP7kDWd5w+RDtslE7cX2VJNUayP2CRZ9Uxw9eLy7ntzrZcPkCpFUeOZGkzmLRJ0mSXhQWiJI0NNq+6HMHIkmq5X5BktQf7XqWRk/avuiTJEmSNLIMl9PQ2+WLRos+SZIkSUOqXYqndrXCUHdAkiRJkjR4LPokSZIkqYNZ9EmSJElSB7PokyRJkqQOZtEnSZIkSR1s2BR9ETEtIu6IiLkR8Zmh7o8kSZIkdYJhUfRFxCjg+8BewObAwRGx+dD2SpIkSZLa37Ao+oDtgbmZOS8znwZmAPsMcZ8kSZIkqe1FZg51H4iIdwDTMvPfy/+HADtk5ofr4o4Ajij/bgbcUZdqLeD+Fp66lXhzd0Y/zG3uduqHuc3dTv0wt7nbqR/mNnc79aOn+A0yc0KvU2fmkD+AA4Cf1vx/CPDdPuSZNVjx5u6Mfpjb3O3UD3Obu536YW5zt1M/zG3udupHX+LrH8Pl9M5FwHo1/08E7hmivkiSJElSxxguRd91wCYRsWFErAQcBFwwxH2SJEmSpLa34lB3ACAzl0bEh4FLgFHA9My8rQ+pThzEeHN3Rj/Mbe526oe5zd1O/TC3udupH+Y2dzv1oy/xyxgWN3KRJEmSJA2O4XJ6pyRJkiRpEFj0SZIkSVIHs+iTJEmSpA5m0SdJkiRJHcyiT5IkSZI62LD4yYa+iohxwDRgXSCpftD9ksx8aEg7Jo1gEfEygMz8Z0RMAHYC7mjmZ1gi4quZ+dnB7qMkaXjqzz5E6jQRsR/wdWBtIMojM3O1VnO17ZG+iHgvcAOwCzAWeCnwJuD6Mq6VXIc1aHtVROwWEavUtU/rJsf2ETGlDG8eER+PiL2bfP5TW+jrG0ruqQ3G7RARq5XhMRHxXxHx64j4eimQ6+M/EhHrNfm8K0XEeyNi9/L/uyLiexFxZESM7maajSLikxHxnYj4ZkT8n0b96OV5l1s2pb3p5eOyaV5E7NGgbbWI2KhB+5YN2j4IzASujoj/AC4E3gL8MiIOr4s9oe7xXeBDXf830dcNI2K/iHhVg3HrR8TKZTgi4rCI+G5E/EdELPdlV0S8rSu+P1xfm3reQX0vKfP66LIefacMT26mb3V53C/0/rwtLctWlmMvz+uy6f15h2qfvdw+pLQ3tR+JFvYhJb7p9/rokPf5Mk1T62BP618Z3/Q62Mr6V+JbfX9oaRtuMH3DedIB29l/A2/LzHGZuVpmrtqXgg/a+Hf6IuIOYIf6o3oRsQZwTWZu2kKuBZm5fs3/HwGOBGYDWwNHZeb5ZdwNmfnauumPBfaiOnJ6GbADcCWwO9WRx+NqYi+of3qqYvUKgMx8W13uazNz+zL8gdKv84CpwK8z8/ia2NuArcqP3Z8IPAGcA+xW2very/0w8DhwJ3AmcHZmLu5mHv28vL6xwEPAKsAvS+7IzEPr4j8CvBX4A7A3cBPwIPB24EOZeWWj52nwvMssm5rcTS0fl83yy6YnDbaFdwL/C9wHjAbel5nXlXGNtoVbqObxGOAuYOPybe0awO8zc+ua2EVUy+JSqnkN8A3gkwCZeUpd7l9l5r5leJ/SryuBfwO+lpkn18TeCmyfmU9ExNeBjYBfAbuW3O+vy/0k1fy+mGp+X5KZzzY732ryuL4O4XtJRBwNHAzMABaV5onAQcCM2tfYG/cLA7ssB2qfUHK5bNprn930fqSVfUiJb/q9vh3f50t80+tgK+tfiWl6HWxl/Svxrb4/tLINtzJP2no7i4irMvP1jZ6/ZZnZlg/gb8C4Bu3jgDkN2m/u5nEL8K+62FuAVcrwJGAW1QoIcGOD3LcAo6gW+iPAaqV9DHBzXewNwOlURyjfWP7+owy/sUHuG2uGrwMmlOGXArfUxc6ufZ66cTc1yk11tHcqcBKwGPgtcCiwav38K39XBO4FRpX/o/411s6TMjwWuLIMr18/D1tZNq0uH5dNw2VzQTePXwOP1/cNeHkZ3h74K7BfD9vCDTXDf+lufpX/V6X6IHAGsG5pm9fDNl87v/8MbFiG12rwXLfXDF8PrNBdv2rm9xrAB4Dflfn4o26Wu+vri7u+tvJe8jdgdIMcK+F+YUiXZSvL0WUz7LezpvchXa+FJvcjtLDH+jycAAAPt0lEQVQPKW1Nv9fThu/zra6Drax/ra6Drax/fXx/aGUbbmWetOV2VjPNd4BfUH2huV/Xo1Fsb492vqbvOOCGiLgUWFja1gf2AL7cIH4dYE+qirpWUH2ArDUqMx8DyMz5EbELcE5EbMALRyRqLc3q26InIuLOzHykTPtkRDxXF7sdcBTwOeBTmXlTRDyZmX/o5nWuUL7hWoHqW4PFJffjEbG0LvbWiDgsM38G/CUitsvMWRGxKfBMg9yZmc9RHWm5tByK3otqxfoGMKGuHytRvXGMpSqulwAvofrmrpEVgWdLzKrlCRc0OOTdyrKB1paPy2Z5OwHvAR6raw+qHXKtUZn5j9KhayPiTcCFETGR6jraes9FxOjMfAZ48/OJq1NqljmdPDMfBT4aEdsCp0fEb+pj6tQ+34qZ+feS5/4Gy3JhROyamVcA84H1gLsiYnx3uTPzQeAnwE+iuqbkncDxETExM2tP9XB9Xd5weS95DngF1RGCWi8v4+q5X1jeYC7LZpcjuGyG83bWyj4EWtuPNL0PKVp5r2/H93lobR1sZf2D1tbBVta/rr40uw62ug23Mk/adTvrshrV0cnaU3ST6ohia/pSKQ6XB9U3NgcBn6A6JewgYI1uYk8C3tDNuDPq/r8C2LqubUXgVODZBtNfA4wtw7XfMo2j7luFmnETgbOB7wELeniN84F5wN/L35eV9lVY/luYccDJVIekr6FamedRHUbeqkHuht8qlHFj6v7/WMl1F/ARqm/JfkL1rcWxDaY/iupbsROpvtU7rLRPAP7Y12XT6vJx2TRcNhcDb+omd/2y+TOwUV3bquU5Gn3buT6Nj7SsC+zew2sKqlM7Tu8h5lmqb0UfBZ6umd8rsfy3husBvwf+SPXt84NlvbkR2K3F+b2B62vbvJdMA+aWdfzE8vhtaZvWILf7hRdpWbayHF02w347a3ofUtoa7UdWo8F+hBb3IbTwXt/L/Nugr+tfq+tgX9a/ZtfBVta/VtfBVta/VtfBVuZfN/Pk+z3Mk7bczgbj0bbX9HWJiHWouXtnZt47ADknUn0T888G416fmVfVtb0kM//VIHYtqlMabunhud4MvD5bvGNhRIwF1slytKNu3KrAK6k2mEXdzZOI2DQz/9bCc74CIDPviYjVqc4/X5CZ13YTvwUwGbg1M//a7PM00Y+ml4/LpvGyaSHvVsATmTmnrn008M7M/HkTOdbMzCVNPl/TsTXTrA5MzsyZDcZNBjalzG/guqy+wauP2yVbuKaoxf69WOvrW4B/68T1tZX3kohYgepow7pUXyZ0LfeWr92py+t+oXF808tyOOwTSpvLpnH8YC2flvYjEbFiZi4tw6sAr6I69b/bfUMz7/Wd8D5f4lpeB3ta/8r4XtfBVte/Mk1T62Cr23CDmF7nSbtuZ+Uo9+HAFsDzNyLKunsTNNXXdi36ImJrqnOxx1Ft4EFV8T9EdTHkDS3kWiXLYeWBjDX3wMRr8A1UYRYRrwd+SnUq3fuBr1BdWN+1c5/Zl9jB7nen5B4u/RguuSNiY2Arqms6bh/IeHMPbmxErJ5N/vxSK7HmHrD4lgqzZuMj4n3AN4EHqI6KfJ/qqNWmwKcz88z+9KUP/Z5A9dlyKfD33j67tBJv7uXiuk4Prv0Ztmuzm0Kllfh2zV3iz6Y6Kvgu4EvAu6neN49qFN+jHORDiYP1oLoweIcG7TvS4EYNveTq9lSN/sSau7l4YEvgaqprM0+k5hTdsiHUT/+aZuNbyd1K3j7kHhavsbS9nuoOWbdR3TXsMqrTExYCr+trbNfzlb6/DrifcnoM8Frgqr7Gvgj9/rcWcn++ZnhzqpuH/J3qtJpG70lNxw9A7LwXux/DLPfvgbXK8CEl9qdUp9r83wa5m443d/9y96EfS4HLqb7hXr1+fF9jzT0gud9HVZT9jepap3lUp7UtBA7uT3xZH9YCNqQ6nX+j0r4OjW+M0UruVmI3L/NjLtXlBNdQve+cTOObCDYdP0C55w1i7qHo91ReODX/p+XRdWr+1Aa5m45v19w109xY/nbdNGY0cEVv23TDXH2ZaDg8aHAntppxcxu0fbybxyeAJX2NNfeA5P4T1bU4q1Ndm3kbL7zRN7prU9PxgxXb5rkHszCrvXPY7Lpx9XfNajr2Reh3K7lr7y73G2CvMrw98OcGuZuOH6zYEZT71prh64DxZXgsjT8wNh1v7v7l7kM/bqH6fbafU31QP5/quv1G1w41HWvuAcvdSmHWdDw1151RXbJTO66/uVuJvRrYrAxvD5xShj8AnNOgH03Hm7th7tnApAY5NqTu80Gr8e2au2bcteXvH4FXl3W42zud9/Ro2x9nBy6OiN9ExIER8W/lcWBUdwD8bYP4r1Ld+GXVuscqLH9HqFZizd3/3Ktk5m8z86HM/AbwYeC3EbEjje8Q2Ur8YMW2c+7RmXlLVqdPLs7MPwFkdUr0mH7EwrLL9pi6cSv1I3aw+91qfJdXZObFJfbaXmJbjR+s2E7O/UxErFuGH6P6rSWAf1HdIr1eK/Hm7l/ulvuRmRdm5rupTg37OdWdFhdFxBn9iDV3/3M/m5n3Z3V92GOZeSdAdn9PhVbiF0TE1yLie8Bfo/rx6tdH9dt2/+hn7lZix2TmHWV815eCZOZPqI5g9Sfe3MvHd12LWe9uur8TcLPx7Zq7y4lR3ZH181Q/jXI78PVuYnvUtj/ZkJkfiYi9gH1Y9oL972fmRQ0muQH4VWZeXz8iIv69H7Hm7n/uiIhxmfkwQGb+PiL2B84F1myQu5X4wYpt59yDWZh9ISLGZuYTmfmrmg5uRHUXrr7GDna/W4l/ZVQ/DBvAxK7XUMY1etNuJX6wYkdK7o9R3WL7XKoj3ldExG+pbjH/swa5W4k3d/9yt9qP52/TnplPAmcBZ0XEOGDffsSau/+5F0TE16i+yP1rRHyT6vbxu9O4MGsl/j1Ud3J+GPgM1VksxwALqE7P7E/uVmLvjIgvUJ3+uR/VJUVdN59p9Nm5lXhzLx8/HbguImbwws+wrUd1tPmkBrlbiW/X3F1OA/an+v3CU0rbOt3E9qhtb+TSqojYjOq0wsUNxq1T+01PK7HmHpDc76I6VH11Xdz6wBcy8wN17U3HD1Zsm+d+G3B5zQfnrvaNgP0z87/7EjvYBrPfLeZ+Y13XbsjMR6O6k/A7MvP7dTmajh+s2JGSu8SPo7rgvfZOfudnN3dJayXe3P3L3WLsJ7M6c6FXrcSae0Byr0ZVmCXVzwdMoyrIFgBfzvKbfH2Nb0UruVuMXR34LNURqb8Ax5f3nXFUd4uu3982HW/ubuMns/yBnAuym5tCtRLfrrlL/G+pvgS5nuqnqwDIzG82iu9J2xZ9ZaU5hmrGrV2a76M6D/34bOEuVJIGRs12uS8v/IBpw+2ylVhJUuer2y+sTVWguV/QiBURt2bmqwckWfbhQsDh8AAuAY6m/PBkaXsZ1ekAlzWIHwccT3Xb0wfKY3ZpW72vsebunNzDpR9tnru77fJo6rbLVmLbfJ64vpp7xOceLv0w94DnXtJi7h7j6d9nu95y9yV2dovzr9d4czeO7+4BXNxsbKvx7ZCb6q7sr2klV3ePdr6Ry6TM/HrW/JBjZv4zM48H1m8QfxbwILBLZo7PzPHAm0rb2f2INXfn5B4u/Wjn3N1tl19n+e2yldh2nieur0Of+6EWczeKN3f/cg9UP4bLOmXuKnbNFpdlb/H9+WzXW+6+xL6pxfnXTLy56+Ij4rXdPLYFtq5P3Ep8u+au8Qbg+oi4IyJujohbIuLmbmJ7lgNQOQ7FA7gU+DSwTk3bOlTfEF3eIP6OHnLd0ddYc3dO7uHSjzbP3fR26Tbs+mrukZN7uPTD3MM+97DYL7Tx/GvX3M8CV1D9nmf948kG0zcd3665a6bZoNGju3nb06Odj/QdCIwH/hARSyJiCXAl1d0KD2gQf1dEfLpc/A9UNxSJiKN54Q46fYk1d+fkHi79aOfcrWyXbsOur+YeObmHSz/MPbxzD5f9QrvOv3bNPRv4YGa+qf5B9du59VqJb9fcAGTmXY0ejWJ707ZFX2Y+mJlHZ+arsjpMv2ZmTs7Mo2l8O+LB/DBq7s7IPVz60ba5W9ku3YZdX809onIPl36YexjnHkb7hbacf22c+4t0X5P83wZtrcS3a+6B15fDg8P9ASxoMf6wwYg1d+fkHi79aPPcTW+XbsOd0Q9zm7ud+mHuYZ97WOwX2nj+mbtDcvf10c4/2dDdRYwBbJqZL2kh14LMbHSBcL9izd05uYdLP4Z77la2S7dh11dzm3s49cPcQ5+7HfYLw3n+mXtk5O6rFQcz+SBbB9iT6i5AtQL4c31wL28k6/Q11tydk3u49KOdc9Paduk27Ppq7hGSe7j0w9zDOzfDZL/QrvPP3J2TezC0c9F3IbBKZt5UPyIirmwQP2gfRs3dMbmHSz/aOXcr26XbsOuruUdO7uHSD3MP79zDZb/QrvPP3J2Te8C1bdGXmYf3MO5dDZoH88OouTsj93DpR9vmbmW7dBt2fTX3iMo9XPph7mGcexjtF9py/pm7o3IPuLa9pk+SJEmS1Lu2/ckGSZIkSVLvLPokSZIkqYNZ9EmSRoyIeHtE3FT3eC4i3h0R5wzycz82mPklSeqO1/RJkkasiDgCeDfwpsx8bpCf67HMXGUwn0OSpEY80idJGpEiYlPgP4FDgPUj4tbS/r6IOD8ifhsRd0TEsTXTvDcibo6Iv0TEaaVtg4j4XWn/XUSsX9o3jIiZEXFdRHy57rk/Vdpvjoj/etFetCRpRLLokySNOBExGjgD+GRmLmgQsj3VEcCtgQMiYruI2AL4HLBrZm4FHFVivwecmplbAj8HTijt3wF+mJlTgH/WPPdUYJPyHFsD20bEzgP9GiVJ6mLRJ0kaib4M3JaZM7oZf1lmPpCZTwK/BN4A7Aqck5n3A2TmkhL7OqoCEuC0EgvweuDMmvYuU8vjRuAG4FVURaAkSYOibX+cXZKkvoiIXYD9gdf2EFZ/wXsC0aC9t2kbxQfwtcz8cRO5JEnqN4/0SZJGjIhYA/gZ8N7MfLSH0D0iYs2IGAPsC1wF/A54Z0SML7nWLLF/Bg4qw+8G/lSGr6pr73IJ8P6IWKXkWTci1u7fK5MkqXse6ZMkjST/B1gb+GFE1LafWRf3J6pTMjcGzsjMWQARcRzwh4h4lur0zPcBHwGmR8SngMXAYSXHUcAZEXEUcG5X4sy8NCImAzNLHx4D3gPcN3AvU5KkF/iTDZIk1YiI9wHbZeaHh7ovkiQNBE/vlCRJkqQO5pE+SZIkSepgHumTJEmSpA5m0SdJkiRJHcyiT5IkSZI6mEWfJEmSJHUwiz5JkiRJ6mD/H78D1oR/Mly0AAAAAElFTkSuQmCC\n",
      "text/plain": [
       "<Figure size 1080x216 with 1 Axes>"
      ]
     },
     "metadata": {},
     "output_type": "display_data"
    }
   ],
   "source": [
    "data_pivot = temp.loc[:, ['Zipcode', 'PricePerArea']].groupby('Zipcode').mean()\n",
    "data_pivot.plot(kind = 'bar', figsize=(15,3))\n",
    "plt.title('Current apartment price per area')\n",
    "plt.show()"
   ]
  },
  {
   "cell_type": "markdown",
   "metadata": {},
   "source": [
    "## What influence does imputing have on price landscape?"
   ]
  },
  {
   "cell_type": "code",
   "execution_count": 481,
   "metadata": {},
   "outputs": [],
   "source": [
    "from sklearn.preprocessing import Imputer"
   ]
  },
  {
   "cell_type": "code",
   "execution_count": 482,
   "metadata": {},
   "outputs": [],
   "source": [
    "imputer1 = Imputer(axis=1)"
   ]
  },
  {
   "cell_type": "code",
   "execution_count": 483,
   "metadata": {},
   "outputs": [],
   "source": [
    "imputer2 = Imputer(strategy='median', axis=1)"
   ]
  },
  {
   "cell_type": "code",
   "execution_count": 484,
   "metadata": {},
   "outputs": [],
   "source": [
    "numeric_columns = data._get_numeric_data().columns"
   ]
  },
  {
   "cell_type": "code",
   "execution_count": 485,
   "metadata": {},
   "outputs": [],
   "source": [
    "data_imputed1 = data.copy()\n",
    "data_imputed2 = data.copy()"
   ]
  },
  {
   "cell_type": "code",
   "execution_count": 486,
   "metadata": {},
   "outputs": [],
   "source": [
    "temp1 = pd.DataFrame(imputer1.fit_transform(data_imputed1.loc[:, numeric_columns]), columns=numeric_columns)\n",
    "temp2 = pd.DataFrame(imputer2.fit_transform(data_imputed2.loc[:, numeric_columns]), columns=numeric_columns)"
   ]
  },
  {
   "cell_type": "code",
   "execution_count": 487,
   "metadata": {},
   "outputs": [],
   "source": [
    "data_imputed1.loc[:, numeric_columns] = temp1\n",
    "data_imputed2.loc[:, numeric_columns] = temp2"
   ]
  },
  {
   "cell_type": "code",
   "execution_count": null,
   "metadata": {},
   "outputs": [],
   "source": []
  },
  {
   "cell_type": "code",
   "execution_count": 490,
   "metadata": {},
   "outputs": [
    {
     "data": {
      "image/png": "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\n",
      "text/plain": [
       "<Figure size 1080x216 with 1 Axes>"
      ]
     },
     "metadata": {},
     "output_type": "display_data"
    },
    {
     "data": {
      "image/png": "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\n",
      "text/plain": [
       "<Figure size 1080x216 with 1 Axes>"
      ]
     },
     "metadata": {},
     "output_type": "display_data"
    },
    {
     "data": {
      "image/png": "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\n",
      "text/plain": [
       "<Figure size 1080x216 with 1 Axes>"
      ]
     },
     "metadata": {},
     "output_type": "display_data"
    }
   ],
   "source": [
<<<<<<< HEAD
    "# Compare h\n",
=======
>>>>>>> 8de367fb09b4647f35d27865ebb2b83dcaaa9bd3
    "data_pivot1 = data_imputed1.loc[:, ['Zipcode', 'current_price']].groupby('Zipcode').mean()\n",
    "data_pivot2 = data_imputed1.loc[:, ['Zipcode', 'current_price']].groupby('Zipcode').mean()\n",
    "data_pivot1.plot(kind = 'bar', figsize=(15,3))\n",
    "data_pivot2.plot(kind = 'bar', figsize=(15,3))\n",
    "data_pivot.plot(kind = 'bar', figsize=(15,3))\n",
    "plt.title('Current apartment price per area')\n",
    "plt.show()"
   ]
  },
  {
   "cell_type": "code",
   "execution_count": 493,
   "metadata": {},
   "outputs": [
    {
     "data": {
      "text/plain": [
       "1716    2300000.0\n",
       "Name: current_price, dtype: float64"
      ]
     },
     "execution_count": 493,
     "metadata": {},
     "output_type": "execute_result"
    }
   ],
   "source": [
    "data_imputed1.loc[data_imputed1.Zipcode == '1028', \"current_price\"]"
   ]
  },
  {
   "cell_type": "code",
   "execution_count": null,
   "metadata": {},
   "outputs": [],
   "source": []
  }
 ],
 "metadata": {
  "kernelspec": {
   "display_name": "Python 3",
   "language": "python",
   "name": "python3"
  },
  "language_info": {
   "codemirror_mode": {
    "name": "ipython",
    "version": 3
   },
   "file_extension": ".py",
   "mimetype": "text/x-python",
   "name": "python",
   "nbconvert_exporter": "python",
   "pygments_lexer": "ipython3",
   "version": "3.6.5"
  }
 },
 "nbformat": 4,
 "nbformat_minor": 2
}
