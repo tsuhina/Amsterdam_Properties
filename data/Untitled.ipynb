{
 "cells": [
  {
   "cell_type": "code",
   "execution_count": 1,
   "metadata": {},
   "outputs": [],
   "source": [
    "import pandas as pd\n",
    "import numpy as np\n",
    "import matplotlib.pyplot as plt\n",
    "import seaborn as sns"
   ]
  },
  {
   "cell_type": "code",
   "execution_count": 9,
   "metadata": {},
   "outputs": [],
   "source": [
    "# Load all three datasets:\n",
    "data_prices = pd.read_csv('houses_price.csv')\n",
    "data_address = pd.read_csv('houses_address.csv')\n",
    "data_details = pd.read_csv('houses_details.csv')\n",
    "data_population = pd.read_csv('houses_population.csv')\n",
    "data_neighbourhood = pd.read_csv('houses_neighborhood.csv', encoding='latin-1')"
   ]
  },
  {
   "cell_type": "code",
   "execution_count": 105,
   "metadata": {
    "scrolled": true
   },
   "outputs": [],
   "source": [
    "######################################################################\n",
    "###################INSERT FUNCTIONS HERE##############################\n",
    "######################################################################\n",
    "\n",
    "# extract distances from the points of interest:\n",
    "import ast\n",
    "import re\n",
    "def extractDistances(x):\n",
    "    if str(x) != 'nan':\n",
    "        x = ast.literal_eval(x)[1]\n",
    "        word_list = x.split(' ') \n",
    "        distance = word_list[0]\n",
    "        units = word_list[1]\n",
    "        distance = float(distance.replace(',', '.'))\n",
    "        if units == 'kilometer':\n",
    "            distance = distance*1000\n",
    "    else: \n",
    "        distance = np.nan\n",
    "    return distance"
   ]
  },
  {
   "cell_type": "code",
   "execution_count": 11,
   "metadata": {},
   "outputs": [],
   "source": [
    "# Use extractDistances(x) to get relevant information from the neighbourhood dataframe:\n",
    "data_neighbourhood = data_neighbourhood.mapapply(extractDistances)"
   ]
  },
  {
   "cell_type": "code",
   "execution_count": null,
   "metadata": {},
   "outputs": [],
   "source": []
  }
 ],
 "metadata": {
  "kernelspec": {
   "display_name": "Python 3",
   "language": "python",
   "name": "python3"
  },
  "language_info": {
   "codemirror_mode": {
    "name": "ipython",
    "version": 3
   },
   "file_extension": ".py",
   "mimetype": "text/x-python",
   "name": "python",
   "nbconvert_exporter": "python",
   "pygments_lexer": "ipython3",
   "version": "3.6.5"
  }
 },
 "nbformat": 4,
 "nbformat_minor": 2
}
